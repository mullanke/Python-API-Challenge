{
 "cells": [
  {
   "cell_type": "markdown",
   "metadata": {},
   "source": [
    "# WeatherPy\n",
    "----\n",
    "\n",
    "#### Note\n",
    "* Instructions have been included for each segment. You do not have to follow them exactly, but they are included to help you think through the steps."
   ]
  },
  {
   "cell_type": "code",
   "execution_count": 2,
   "metadata": {
    "scrolled": true
   },
   "outputs": [],
   "source": [
    "# Dependencies and Setup\n",
    "import matplotlib.pyplot as plt\n",
    "import pandas as pd\n",
    "import numpy as np\n",
    "import requests\n",
    "import time\n",
    "from scipy.stats import linregress\n",
    "\n",
    "# Import API key\n",
    "from api_keys import weather_api_key\n",
    "\n",
    "# Incorporated citipy to determine city based on latitude and longitude\n",
    "from citipy import citipy\n",
    "\n",
    "# Output File (CSV)\n",
    "output_data_file = \"output_data/cities.csv\"\n",
    "\n",
    "# Range of latitudes and longitudes\n",
    "lat_range = (-90, 90)\n",
    "lng_range = (-180, 180)"
   ]
  },
  {
   "cell_type": "markdown",
   "metadata": {},
   "source": [
    "## Generate Cities List"
   ]
  },
  {
   "cell_type": "code",
   "execution_count": 3,
   "metadata": {},
   "outputs": [
    {
     "data": {
      "text/plain": [
       "644"
      ]
     },
     "execution_count": 3,
     "metadata": {},
     "output_type": "execute_result"
    }
   ],
   "source": [
    "# List for holding lat_lngs and cities\n",
    "lat_lngs = []\n",
    "cities = []\n",
    "\n",
    "# Create a set of random lat and lng combinations\n",
    "lats = np.random.uniform(lat_range[0], lat_range[1], size=1500)\n",
    "lngs = np.random.uniform(lng_range[0], lng_range[1], size=1500)\n",
    "lat_lngs = zip(lats, lngs)\n",
    "\n",
    "# Identify nearest city for each lat, lng combination\n",
    "for lat_lng in lat_lngs:\n",
    "    city = citipy.nearest_city(lat_lng[0], lat_lng[1]).city_name\n",
    "    \n",
    "    # If the city is unique, then add it to a our cities list\n",
    "    if city not in cities:\n",
    "        cities.append(city)\n",
    "\n",
    "# Print the city count to confirm sufficient count\n",
    "len(cities)"
   ]
  },
  {
   "cell_type": "markdown",
   "metadata": {},
   "source": [
    "### Perform API Calls\n",
    "* Perform a weather check on each city using a series of successive API calls.\n",
    "* Include a print log of each city as it'sbeing processed (with the city number and city name).\n"
   ]
  },
  {
   "cell_type": "code",
   "execution_count": 4,
   "metadata": {
    "scrolled": true
   },
   "outputs": [
    {
     "name": "stdout",
     "output_type": "stream",
     "text": [
      "Beginning Data Retreival\n",
      "-----------------------------\n",
      "Processing Record 0 of Set something | puerto ayora.\n",
      "Processing Record 1 of Set something | victoria.\n",
      "Processing Record 2 of Set something | teahupoo.\n",
      "Processing Record 3 of Set something | wulanhaote.\n",
      "City not found. Skipping...\n",
      "Processing Record 4 of Set something | kargasok.\n",
      "Processing Record 5 of Set something | flin flon.\n",
      "Processing Record 6 of Set something | saskylakh.\n",
      "Processing Record 7 of Set something | castro.\n",
      "Processing Record 8 of Set something | taolanaro.\n",
      "City not found. Skipping...\n",
      "Processing Record 9 of Set something | lompoc.\n",
      "Processing Record 10 of Set something | ambodifototra.\n",
      "City not found. Skipping...\n",
      "Processing Record 11 of Set something | rungata.\n",
      "City not found. Skipping...\n",
      "Processing Record 12 of Set something | khatanga.\n",
      "Processing Record 13 of Set something | puerto escondido.\n",
      "Processing Record 14 of Set something | port alfred.\n",
      "Processing Record 15 of Set something | saint joseph.\n",
      "Processing Record 16 of Set something | marfino.\n",
      "Processing Record 17 of Set something | jamestown.\n",
      "Processing Record 18 of Set something | marshall.\n",
      "Processing Record 19 of Set something | talnakh.\n",
      "Processing Record 20 of Set something | burnie.\n",
      "Processing Record 21 of Set something | coos bay.\n",
      "Processing Record 22 of Set something | rocha.\n",
      "Processing Record 23 of Set something | yushu.\n",
      "Processing Record 24 of Set something | rehoboth.\n",
      "Processing Record 25 of Set something | bambanglipuro.\n",
      "Processing Record 26 of Set something | barentsburg.\n",
      "City not found. Skipping...\n",
      "Processing Record 27 of Set something | sambava.\n",
      "Processing Record 28 of Set something | port elizabeth.\n",
      "Processing Record 29 of Set something | manavgat.\n",
      "Processing Record 30 of Set something | kenai.\n",
      "Processing Record 31 of Set something | usinsk.\n",
      "Processing Record 32 of Set something | severo-kurilsk.\n",
      "Processing Record 33 of Set something | nouadhibou.\n",
      "Processing Record 34 of Set something | guerrero negro.\n",
      "Processing Record 35 of Set something | nikolskoye.\n",
      "Processing Record 36 of Set something | galchino.\n",
      "City not found. Skipping...\n",
      "Processing Record 37 of Set something | albany.\n",
      "Processing Record 38 of Set something | avondale.\n",
      "Processing Record 39 of Set something | ushuaia.\n",
      "Processing Record 40 of Set something | itaituba.\n",
      "Processing Record 41 of Set something | busselton.\n",
      "Processing Record 42 of Set something | thompson.\n",
      "Processing Record 43 of Set something | inhambane.\n",
      "Processing Record 44 of Set something | rikitea.\n",
      "Processing Record 45 of Set something | avarua.\n",
      "Processing Record 46 of Set something | cape town.\n",
      "Processing Record 47 of Set something | bluff.\n",
      "Processing Record 48 of Set something | perth.\n",
      "Processing Record 49 of Set something | noumea.\n",
      "Processing Record 50 of Set something | oxford.\n",
      "Processing Record 51 of Set something | pevek.\n",
      "Processing Record 52 of Set something | marion.\n",
      "Processing Record 53 of Set something | melbu.\n",
      "Processing Record 54 of Set something | hobart.\n",
      "Processing Record 55 of Set something | sitka.\n",
      "Processing Record 56 of Set something | athabasca.\n",
      "Processing Record 57 of Set something | nguiu.\n",
      "City not found. Skipping...\n",
      "Processing Record 58 of Set something | bambous virieux.\n",
      "Processing Record 59 of Set something | georgetown.\n",
      "Processing Record 60 of Set something | sao filipe.\n",
      "Processing Record 61 of Set something | la ronge.\n",
      "Processing Record 62 of Set something | coihaique.\n",
      "Processing Record 63 of Set something | new norfolk.\n",
      "Processing Record 64 of Set something | general pico.\n",
      "Processing Record 65 of Set something | los alamos.\n",
      "Processing Record 66 of Set something | east london.\n",
      "Processing Record 67 of Set something | vaini.\n",
      "Processing Record 68 of Set something | port hardy.\n",
      "Processing Record 69 of Set something | praia.\n",
      "Processing Record 70 of Set something | biloela.\n",
      "Processing Record 71 of Set something | esperance.\n",
      "Processing Record 72 of Set something | kachug.\n",
      "Processing Record 73 of Set something | hammerfest.\n",
      "Processing Record 74 of Set something | punta arenas.\n",
      "Processing Record 75 of Set something | henties bay.\n",
      "Processing Record 76 of Set something | naftah.\n",
      "City not found. Skipping...\n",
      "Processing Record 77 of Set something | arraial do cabo.\n",
      "Processing Record 78 of Set something | micheweni.\n",
      "Processing Record 79 of Set something | scottsburgh.\n",
      "City not found. Skipping...\n",
      "Processing Record 80 of Set something | honiara.\n",
      "Processing Record 81 of Set something | brzeg.\n",
      "Processing Record 82 of Set something | grand river south east.\n",
      "City not found. Skipping...\n",
      "Processing Record 83 of Set something | barrow.\n",
      "Processing Record 84 of Set something | airai.\n",
      "Processing Record 85 of Set something | saldanha.\n",
      "Processing Record 86 of Set something | mezen.\n",
      "Processing Record 87 of Set something | seoul.\n",
      "Processing Record 88 of Set something | hasaki.\n",
      "Processing Record 89 of Set something | mataura.\n",
      "Processing Record 90 of Set something | bengkulu.\n",
      "Processing Record 91 of Set something | orebro.\n",
      "Processing Record 92 of Set something | dongsheng.\n",
      "Processing Record 93 of Set something | port augusta.\n",
      "Processing Record 94 of Set something | itaguai.\n",
      "Processing Record 95 of Set something | raymore.\n",
      "Processing Record 96 of Set something | kahului.\n",
      "Processing Record 97 of Set something | fortuna.\n",
      "Processing Record 98 of Set something | ancud.\n",
      "Processing Record 99 of Set something | qaanaaq.\n",
      "Processing Record 100 of Set something | bethel.\n",
      "Processing Record 101 of Set something | plettenberg bay.\n",
      "Processing Record 102 of Set something | caravelas.\n",
      "Processing Record 103 of Set something | vicuna.\n",
      "Processing Record 104 of Set something | kodiak.\n",
      "Processing Record 105 of Set something | kapaa.\n",
      "Processing Record 106 of Set something | anadyr.\n",
      "Processing Record 107 of Set something | filadelfia.\n",
      "Processing Record 108 of Set something | massakory.\n",
      "Processing Record 109 of Set something | tolbazy.\n",
      "Processing Record 110 of Set something | wahran.\n",
      "City not found. Skipping...\n",
      "Processing Record 111 of Set something | havre-saint-pierre.\n",
      "Processing Record 112 of Set something | hithadhoo.\n",
      "Processing Record 113 of Set something | provideniya.\n",
      "Processing Record 114 of Set something | darhan.\n",
      "Processing Record 115 of Set something | waipawa.\n",
      "Processing Record 116 of Set something | sistranda.\n",
      "Processing Record 117 of Set something | bredasdorp.\n",
      "Processing Record 118 of Set something | lebu.\n",
      "Processing Record 119 of Set something | porto novo.\n",
      "Processing Record 120 of Set something | illoqqortoormiut.\n",
      "City not found. Skipping...\n",
      "Processing Record 121 of Set something | surab.\n",
      "Processing Record 122 of Set something | necochea.\n",
      "Processing Record 123 of Set something | najran.\n",
      "Processing Record 124 of Set something | cidreira.\n",
      "Processing Record 125 of Set something | roros.\n",
      "Processing Record 126 of Set something | gizo.\n",
      "Processing Record 127 of Set something | leningradskiy.\n",
      "Processing Record 128 of Set something | pindiga.\n",
      "Processing Record 129 of Set something | port hedland.\n",
      "Processing Record 130 of Set something | tsihombe.\n",
      "City not found. Skipping...\n",
      "Processing Record 131 of Set something | hermanus.\n",
      "Processing Record 132 of Set something | clyde river.\n",
      "Processing Record 133 of Set something | alhandra.\n",
      "Processing Record 134 of Set something | beringovskiy.\n",
      "Processing Record 135 of Set something | katsuura.\n",
      "Processing Record 136 of Set something | padang.\n",
      "Processing Record 137 of Set something | huarmey.\n",
      "Processing Record 138 of Set something | grindavik.\n",
      "Processing Record 139 of Set something | atuona.\n",
      "Processing Record 140 of Set something | pangkalanbuun.\n",
      "Processing Record 141 of Set something | narsaq.\n",
      "Processing Record 142 of Set something | saint george.\n",
      "Processing Record 143 of Set something | los llanos de aridane.\n",
      "Processing Record 144 of Set something | torbay.\n",
      "Processing Record 145 of Set something | diamantina.\n",
      "Processing Record 146 of Set something | culebra.\n",
      "Processing Record 147 of Set something | saint-philippe.\n",
      "Processing Record 148 of Set something | whitehorse.\n",
      "Processing Record 149 of Set something | butaritari.\n",
      "Processing Record 150 of Set something | olga.\n",
      "Processing Record 151 of Set something | odweyne.\n",
      "Processing Record 152 of Set something | hunza.\n",
      "City not found. Skipping...\n",
      "Processing Record 153 of Set something | mar del plata.\n",
      "Processing Record 154 of Set something | nago.\n",
      "Processing Record 155 of Set something | abu samrah.\n",
      "Processing Record 156 of Set something | rheinberg.\n",
      "Processing Record 157 of Set something | borogontsy.\n",
      "Processing Record 158 of Set something | lengshuitan.\n",
      "Processing Record 159 of Set something | mufumbwe.\n",
      "Processing Record 160 of Set something | kuche.\n",
      "City not found. Skipping...\n",
      "Processing Record 161 of Set something | yellowknife.\n",
      "Processing Record 162 of Set something | saleaula.\n",
      "City not found. Skipping...\n",
      "Processing Record 163 of Set something | muros.\n",
      "Processing Record 164 of Set something | yulara.\n",
      "Processing Record 165 of Set something | vila velha.\n",
      "Processing Record 166 of Set something | machico.\n",
      "Processing Record 167 of Set something | quelimane.\n",
      "Processing Record 168 of Set something | alta floresta.\n",
      "Processing Record 169 of Set something | mackay.\n",
      "Processing Record 170 of Set something | dali.\n",
      "Processing Record 171 of Set something | agha jari.\n",
      "City not found. Skipping...\n",
      "Processing Record 172 of Set something | southbridge.\n",
      "Processing Record 173 of Set something | yelan-kolenovskiy.\n",
      "Processing Record 174 of Set something | lorengau.\n",
      "Processing Record 175 of Set something | khasan.\n",
      "Processing Record 176 of Set something | san quintin.\n",
      "Processing Record 177 of Set something | lucapa.\n",
      "Processing Record 178 of Set something | dikson.\n",
      "Processing Record 179 of Set something | sokoni.\n",
      "Processing Record 180 of Set something | cam pha.\n",
      "City not found. Skipping...\n",
      "Processing Record 181 of Set something | lavrentiya.\n",
      "Processing Record 182 of Set something | kazalinsk.\n",
      "City not found. Skipping...\n",
      "Processing Record 183 of Set something | naze.\n",
      "Processing Record 184 of Set something | senno.\n",
      "Processing Record 185 of Set something | ondjiva.\n",
      "Processing Record 186 of Set something | wonthaggi.\n",
      "Processing Record 187 of Set something | sorvag.\n",
      "City not found. Skipping...\n",
      "Processing Record 188 of Set something | hilo.\n",
      "Processing Record 189 of Set something | vardo.\n",
      "Processing Record 190 of Set something | brae.\n",
      "Processing Record 191 of Set something | port hueneme.\n",
      "Processing Record 192 of Set something | yagodnoye.\n",
      "Processing Record 193 of Set something | mys shmidta.\n",
      "City not found. Skipping...\n",
      "Processing Record 194 of Set something | nantucket.\n",
      "Processing Record 195 of Set something | souillac.\n",
      "Processing Record 196 of Set something | petatlan.\n",
      "Processing Record 197 of Set something | luanda.\n",
      "Processing Record 198 of Set something | dzaoudzi.\n",
      "Processing Record 199 of Set something | tuktoyaktuk.\n",
      "Processing Record 200 of Set something | lovozero.\n",
      "Processing Record 201 of Set something | vaitupu.\n",
      "City not found. Skipping...\n",
      "Processing Record 202 of Set something | eusebio.\n",
      "Processing Record 203 of Set something | hokitika.\n",
      "Processing Record 204 of Set something | ishigaki.\n",
      "Processing Record 205 of Set something | umzimvubu.\n",
      "City not found. Skipping...\n",
      "Processing Record 206 of Set something | alappuzha.\n",
      "Processing Record 207 of Set something | olafsvik.\n",
      "Processing Record 208 of Set something | attawapiskat.\n",
      "City not found. Skipping...\n",
      "Processing Record 209 of Set something | gainesville.\n",
      "Processing Record 210 of Set something | kruisfontein.\n",
      "Processing Record 211 of Set something | weinan.\n",
      "Processing Record 212 of Set something | san francisco.\n",
      "Processing Record 213 of Set something | axim.\n",
      "Processing Record 214 of Set something | margate.\n",
      "Processing Record 215 of Set something | ponta do sol.\n",
      "Processing Record 216 of Set something | belushya guba.\n",
      "City not found. Skipping...\n",
      "Processing Record 217 of Set something | coquimbo.\n",
      "Processing Record 218 of Set something | atambua.\n",
      "Processing Record 219 of Set something | prince rupert.\n",
      "Processing Record 220 of Set something | strand.\n",
      "Processing Record 221 of Set something | coffs harbour.\n",
      "Processing Record 222 of Set something | tsumeb.\n",
      "Processing Record 223 of Set something | shimoda.\n",
      "Processing Record 224 of Set something | namatanai.\n",
      "Processing Record 225 of Set something | geraldton.\n",
      "Processing Record 226 of Set something | haines junction.\n",
      "Processing Record 227 of Set something | baykit.\n",
      "Processing Record 228 of Set something | kaka.\n",
      "Processing Record 229 of Set something | tugdan.\n",
      "Processing Record 230 of Set something | okha.\n",
      "Processing Record 231 of Set something | nanortalik.\n",
      "Processing Record 232 of Set something | tasiilaq.\n",
      "Processing Record 233 of Set something | bonthe.\n",
      "Processing Record 234 of Set something | quatre cocos.\n",
      "Processing Record 235 of Set something | laguna.\n",
      "Processing Record 236 of Set something | moose factory.\n",
      "Processing Record 237 of Set something | sioux lookout.\n",
      "Processing Record 238 of Set something | banda aceh.\n",
      "Processing Record 239 of Set something | lolua.\n",
      "City not found. Skipping...\n",
      "Processing Record 240 of Set something | zanzibar.\n",
      "Processing Record 241 of Set something | kavieng.\n",
      "Processing Record 242 of Set something | melfort.\n",
      "Processing Record 243 of Set something | cabo san lucas.\n",
      "Processing Record 244 of Set something | luderitz.\n",
      "Processing Record 245 of Set something | eirunepe.\n",
      "Processing Record 246 of Set something | baghmara.\n",
      "Processing Record 247 of Set something | cherskiy.\n",
      "Processing Record 248 of Set something | maragogi.\n",
      "Processing Record 249 of Set something | markova.\n",
      "Processing Record 250 of Set something | bargal.\n",
      "City not found. Skipping...\n",
      "Processing Record 251 of Set something | aitape.\n",
      "Processing Record 252 of Set something | hailey.\n",
      "Processing Record 253 of Set something | uvat.\n",
      "Processing Record 254 of Set something | chuy.\n",
      "Processing Record 255 of Set something | safaga.\n",
      "Processing Record 256 of Set something | cap malheureux.\n",
      "Processing Record 257 of Set something | dicabisagan.\n",
      "Processing Record 258 of Set something | sakaiminato.\n",
      "Processing Record 259 of Set something | wanning.\n",
      "Processing Record 260 of Set something | roebourne.\n",
      "Processing Record 261 of Set something | korla.\n",
      "Processing Record 262 of Set something | isabela.\n",
      "Processing Record 263 of Set something | san andres.\n",
      "Processing Record 264 of Set something | wajid.\n",
      "Processing Record 265 of Set something | oranjemund.\n",
      "Processing Record 266 of Set something | akyab.\n",
      "Processing Record 267 of Set something | kaman.\n",
      "Processing Record 268 of Set something | fort nelson.\n",
      "Processing Record 269 of Set something | mwinilunga.\n",
      "Processing Record 270 of Set something | dasoguz.\n",
      "Processing Record 271 of Set something | ugoofaaru.\n",
      "Processing Record 272 of Set something | twentynine palms.\n",
      "Processing Record 273 of Set something | amderma.\n",
      "City not found. Skipping...\n",
      "Processing Record 274 of Set something | guano.\n",
      "Processing Record 275 of Set something | port lincoln.\n",
      "Processing Record 276 of Set something | matara.\n",
      "Processing Record 277 of Set something | ca mau.\n",
      "Processing Record 278 of Set something | srednekolymsk.\n",
      "Processing Record 279 of Set something | salaverry.\n",
      "Processing Record 280 of Set something | saint-augustin.\n",
      "Processing Record 281 of Set something | santa maria.\n",
      "Processing Record 282 of Set something | komsomolskiy.\n",
      "Processing Record 283 of Set something | novomykolayivka.\n",
      "Processing Record 284 of Set something | ilulissat.\n",
      "Processing Record 285 of Set something | faanui.\n",
      "Processing Record 286 of Set something | coahuayana.\n",
      "Processing Record 287 of Set something | rio gallegos.\n",
      "Processing Record 288 of Set something | uyuni.\n",
      "Processing Record 289 of Set something | carson city.\n",
      "Processing Record 290 of Set something | eldorado.\n",
      "Processing Record 291 of Set something | iqaluit.\n",
      "Processing Record 292 of Set something | clonakilty.\n",
      "Processing Record 293 of Set something | ribeira grande.\n",
      "Processing Record 294 of Set something | verkhnyaya inta.\n",
      "Processing Record 295 of Set something | pangnirtung.\n",
      "Processing Record 296 of Set something | vangaindrano.\n",
      "Processing Record 297 of Set something | kamenka.\n",
      "Processing Record 298 of Set something | bereda.\n",
      "Processing Record 299 of Set something | terrace.\n",
      "Processing Record 300 of Set something | dingle.\n",
      "Processing Record 301 of Set something | palmer.\n",
      "Processing Record 302 of Set something | saquena.\n",
      "Processing Record 303 of Set something | panzhihua.\n",
      "Processing Record 304 of Set something | cheremukhovo.\n",
      "Processing Record 305 of Set something | chokurdakh.\n",
      "Processing Record 306 of Set something | pyapon.\n",
      "Processing Record 307 of Set something | college.\n",
      "Processing Record 308 of Set something | empalme.\n",
      "Processing Record 309 of Set something | lago da pedra.\n",
      "Processing Record 310 of Set something | tunduru.\n",
      "City not found. Skipping...\n",
      "Processing Record 311 of Set something | kassala.\n",
      "Processing Record 312 of Set something | metro.\n",
      "Processing Record 313 of Set something | kasangulu.\n",
      "Processing Record 314 of Set something | garowe.\n",
      "Processing Record 315 of Set something | flinders.\n",
      "Processing Record 316 of Set something | araouane.\n",
      "Processing Record 317 of Set something | lahaina.\n",
      "Processing Record 318 of Set something | ferme-neuve.\n",
      "Processing Record 319 of Set something | canutama.\n",
      "Processing Record 320 of Set something | toamasina.\n",
      "Processing Record 321 of Set something | zaraysk.\n",
      "Processing Record 322 of Set something | palabuhanratu.\n",
      "City not found. Skipping...\n",
      "Processing Record 323 of Set something | aleksandrov.\n",
      "Processing Record 324 of Set something | muzhi.\n",
      "Processing Record 325 of Set something | myanaung.\n",
      "Processing Record 326 of Set something | bilibino.\n",
      "Processing Record 327 of Set something | bahia honda.\n",
      "Processing Record 328 of Set something | sataua.\n",
      "City not found. Skipping...\n",
      "Processing Record 329 of Set something | portland.\n",
      "Processing Record 330 of Set something | piacabucu.\n",
      "Processing Record 331 of Set something | carutapera.\n",
      "Processing Record 332 of Set something | sharan.\n",
      "Processing Record 333 of Set something | upernavik.\n",
      "Processing Record 334 of Set something | tadine.\n",
      "Processing Record 335 of Set something | temirtau.\n",
      "Processing Record 336 of Set something | estevan.\n",
      "Processing Record 337 of Set something | a coruna.\n",
      "Processing Record 338 of Set something | alofi.\n",
      "Processing Record 339 of Set something | choma.\n",
      "Processing Record 340 of Set something | kieta.\n",
      "Processing Record 341 of Set something | tessalit.\n",
      "Processing Record 342 of Set something | villa carlos paz.\n",
      "Processing Record 343 of Set something | chatsu.\n",
      "City not found. Skipping...\n",
      "Processing Record 344 of Set something | sri aman.\n",
      "Processing Record 345 of Set something | mareeba.\n",
      "Processing Record 346 of Set something | poum.\n",
      "Processing Record 347 of Set something | pasni.\n",
      "Processing Record 348 of Set something | fortuna foothills.\n",
      "Processing Record 349 of Set something | windhoek.\n",
      "Processing Record 350 of Set something | tiksi.\n",
      "Processing Record 351 of Set something | kaitangata.\n",
      "Processing Record 352 of Set something | diamantino.\n",
      "Processing Record 353 of Set something | tual.\n",
      "Processing Record 354 of Set something | chifeng.\n",
      "Processing Record 355 of Set something | paamiut.\n",
      "Processing Record 356 of Set something | cukai.\n",
      "Processing Record 357 of Set something | matipo.\n",
      "Processing Record 358 of Set something | calama.\n",
      "Processing Record 359 of Set something | millville.\n",
      "Processing Record 360 of Set something | tuatapere.\n",
      "Processing Record 361 of Set something | mahebourg.\n",
      "Processing Record 362 of Set something | uwayl.\n",
      "City not found. Skipping...\n",
      "Processing Record 363 of Set something | meulaboh.\n",
      "Processing Record 364 of Set something | galgani.\n",
      "City not found. Skipping...\n",
      "Processing Record 365 of Set something | asfi.\n",
      "Processing Record 366 of Set something | hamilton.\n",
      "Processing Record 367 of Set something | kpandu.\n",
      "Processing Record 368 of Set something | zyryanka.\n",
      "Processing Record 369 of Set something | kama.\n",
      "Processing Record 370 of Set something | sentyabrskiy.\n",
      "City not found. Skipping...\n",
      "Processing Record 371 of Set something | uray.\n",
      "Processing Record 372 of Set something | carlos antonio lopez.\n",
      "Processing Record 373 of Set something | beloha.\n",
      "Processing Record 374 of Set something | mandalgovi.\n",
      "Processing Record 375 of Set something | andilamena.\n",
      "Processing Record 376 of Set something | griffith.\n",
      "Processing Record 377 of Set something | beyneu.\n",
      "Processing Record 378 of Set something | wellington.\n",
      "Processing Record 379 of Set something | marcona.\n",
      "City not found. Skipping...\n",
      "Processing Record 380 of Set something | haibara.\n",
      "Processing Record 381 of Set something | sirsi.\n",
      "Processing Record 382 of Set something | magaria.\n",
      "Processing Record 383 of Set something | teya.\n",
      "Processing Record 384 of Set something | klyuchi.\n",
      "Processing Record 385 of Set something | ankang.\n",
      "Processing Record 386 of Set something | chapais.\n",
      "Processing Record 387 of Set something | les escoumins.\n",
      "Processing Record 388 of Set something | natal.\n",
      "Processing Record 389 of Set something | tateyama.\n",
      "Processing Record 390 of Set something | sao joao da barra.\n",
      "Processing Record 391 of Set something | tomatlan.\n",
      "Processing Record 392 of Set something | tivaouane.\n",
      "Processing Record 393 of Set something | masty.\n",
      "Processing Record 394 of Set something | concarneau.\n",
      "Processing Record 395 of Set something | sao francisco.\n",
      "Processing Record 396 of Set something | karkaralinsk.\n",
      "City not found. Skipping...\n",
      "Processing Record 397 of Set something | mehamn.\n",
      "Processing Record 398 of Set something | raudeberg.\n",
      "Processing Record 399 of Set something | mahibadhoo.\n",
      "Processing Record 400 of Set something | les cayes.\n",
      "Processing Record 401 of Set something | englehart.\n",
      "Processing Record 402 of Set something | vao.\n",
      "Processing Record 403 of Set something | benha.\n",
      "City not found. Skipping...\n",
      "Processing Record 404 of Set something | george town.\n",
      "Processing Record 405 of Set something | coromandel.\n",
      "Processing Record 406 of Set something | novobirilyussy.\n",
      "Processing Record 407 of Set something | chandpur.\n",
      "Processing Record 408 of Set something | buala.\n",
      "Processing Record 409 of Set something | artyk.\n",
      "City not found. Skipping...\n",
      "Processing Record 410 of Set something | warrnambool.\n",
      "Processing Record 411 of Set something | karratha.\n",
      "Processing Record 412 of Set something | grand centre.\n",
      "City not found. Skipping...\n",
      "Processing Record 413 of Set something | grand gaube.\n",
      "Processing Record 414 of Set something | tres arroyos.\n",
      "Processing Record 415 of Set something | aksarka.\n",
      "Processing Record 416 of Set something | santarem.\n",
      "Processing Record 417 of Set something | buraydah.\n",
      "Processing Record 418 of Set something | tumannyy.\n",
      "City not found. Skipping...\n",
      "Processing Record 419 of Set something | sept-iles.\n",
      "Processing Record 420 of Set something | namibe.\n",
      "Processing Record 421 of Set something | kropachevo.\n",
      "Processing Record 422 of Set something | santo antonio do sudoeste.\n",
      "Processing Record 423 of Set something | kure.\n",
      "Processing Record 424 of Set something | dover.\n",
      "Processing Record 425 of Set something | alto araguaia.\n",
      "Processing Record 426 of Set something | dubenskiy.\n",
      "City not found. Skipping...\n",
      "Processing Record 427 of Set something | nalagarh.\n",
      "Processing Record 428 of Set something | klaksvik.\n",
      "Processing Record 429 of Set something | ola.\n",
      "Processing Record 430 of Set something | boende.\n",
      "Processing Record 431 of Set something | cockburn town.\n",
      "Processing Record 432 of Set something | montlucon.\n",
      "Processing Record 433 of Set something | tanshui.\n",
      "City not found. Skipping...\n",
      "Processing Record 434 of Set something | norman wells.\n",
      "Processing Record 435 of Set something | cali.\n",
      "Processing Record 436 of Set something | veraval.\n",
      "Processing Record 437 of Set something | fukue.\n",
      "Processing Record 438 of Set something | nguruka.\n",
      "Processing Record 439 of Set something | rebrikha.\n",
      "Processing Record 440 of Set something | bilma.\n",
      "Processing Record 441 of Set something | muzambinho.\n",
      "Processing Record 442 of Set something | belmonte.\n",
      "Processing Record 443 of Set something | sar-e pul.\n",
      "Processing Record 444 of Set something | esna.\n",
      "Processing Record 445 of Set something | sandnessjoen.\n",
      "Processing Record 446 of Set something | stephenville.\n",
      "Processing Record 447 of Set something | dalbandin.\n",
      "Processing Record 448 of Set something | scottsbluff.\n",
      "Processing Record 449 of Set something | tabiauea.\n",
      "City not found. Skipping...\n",
      "Processing Record 450 of Set something | abonnema.\n",
      "Processing Record 451 of Set something | conakry.\n",
      "Processing Record 452 of Set something | ascension.\n",
      "Processing Record 453 of Set something | visim.\n",
      "Processing Record 454 of Set something | fuyang.\n",
      "Processing Record 455 of Set something | mabama.\n",
      "Processing Record 456 of Set something | aklavik.\n",
      "Processing Record 457 of Set something | young.\n",
      "Processing Record 458 of Set something | guapi.\n",
      "Processing Record 459 of Set something | evensk.\n",
      "Processing Record 460 of Set something | jessheim.\n",
      "Processing Record 461 of Set something | jurado.\n",
      "Processing Record 462 of Set something | caruray.\n",
      "Processing Record 463 of Set something | abaete.\n",
      "Processing Record 464 of Set something | qaqortoq.\n",
      "Processing Record 465 of Set something | isangel.\n",
      "Processing Record 466 of Set something | taltal.\n",
      "Processing Record 467 of Set something | shu.\n",
      "Processing Record 468 of Set something | bloemfontein.\n",
      "Processing Record 469 of Set something | christchurch.\n",
      "Processing Record 470 of Set something | huayang.\n",
      "Processing Record 471 of Set something | pisco.\n",
      "Processing Record 472 of Set something | meadow lake.\n",
      "Processing Record 473 of Set something | cabedelo.\n",
      "Processing Record 474 of Set something | onega.\n",
      "Processing Record 475 of Set something | imst.\n",
      "Processing Record 476 of Set something | tezu.\n",
      "Processing Record 477 of Set something | torrington.\n",
      "Processing Record 478 of Set something | roma.\n",
      "Processing Record 479 of Set something | mineral del monte.\n",
      "Processing Record 480 of Set something | gumdag.\n",
      "Processing Record 481 of Set something | upata.\n",
      "Processing Record 482 of Set something | mancio lima.\n",
      "Processing Record 483 of Set something | yangambi.\n",
      "Processing Record 484 of Set something | wazzan.\n",
      "City not found. Skipping...\n",
      "Processing Record 485 of Set something | half moon bay.\n",
      "Processing Record 486 of Set something | codrington.\n",
      "Processing Record 487 of Set something | santa cruz del sur.\n",
      "Processing Record 488 of Set something | sembe.\n",
      "Processing Record 489 of Set something | muromtsevo.\n",
      "Processing Record 490 of Set something | manuk mangkaw.\n",
      "Processing Record 491 of Set something | marsa matruh.\n",
      "Processing Record 492 of Set something | tromso.\n",
      "Processing Record 493 of Set something | edson.\n",
      "Processing Record 494 of Set something | vila franca do campo.\n",
      "Processing Record 495 of Set something | kurmanayevka.\n",
      "Processing Record 496 of Set something | pitimbu.\n",
      "Processing Record 497 of Set something | lerwick.\n",
      "Processing Record 498 of Set something | ryotsu.\n",
      "Processing Record 499 of Set something | saint-georges.\n",
      "Processing Record 500 of Set something | mwadui.\n",
      "Processing Record 501 of Set something | antofagasta.\n",
      "Processing Record 502 of Set something | zhangye.\n",
      "Processing Record 503 of Set something | barcelos.\n",
      "Processing Record 504 of Set something | arman.\n",
      "Processing Record 505 of Set something | tyukhtet.\n",
      "Processing Record 506 of Set something | lasa.\n",
      "Processing Record 507 of Set something | biak.\n",
      "Processing Record 508 of Set something | carnarvon.\n",
      "Processing Record 509 of Set something | houston.\n",
      "Processing Record 510 of Set something | te anau.\n",
      "Processing Record 511 of Set something | ukiah.\n",
      "Processing Record 512 of Set something | dubbo.\n",
      "Processing Record 513 of Set something | aban.\n",
      "Processing Record 514 of Set something | ginir.\n",
      "Processing Record 515 of Set something | marzuq.\n",
      "Processing Record 516 of Set something | chalmette.\n",
      "Processing Record 517 of Set something | nieuw amsterdam.\n",
      "Processing Record 518 of Set something | teonthar.\n",
      "Processing Record 519 of Set something | sandy bay.\n",
      "Processing Record 520 of Set something | turukhansk.\n",
      "Processing Record 521 of Set something | broken hill.\n",
      "Processing Record 522 of Set something | daniel flores.\n",
      "Processing Record 523 of Set something | hobyo.\n",
      "Processing Record 524 of Set something | chicama.\n",
      "Processing Record 525 of Set something | ampanihy.\n",
      "Processing Record 526 of Set something | batagay-alyta.\n",
      "Processing Record 527 of Set something | grants.\n",
      "Processing Record 528 of Set something | biskupiec.\n",
      "Processing Record 529 of Set something | benguela.\n",
      "Processing Record 530 of Set something | selishche.\n",
      "Processing Record 531 of Set something | ocean city.\n",
      "Processing Record 532 of Set something | turbat.\n",
      "Processing Record 533 of Set something | tanggu.\n",
      "Processing Record 534 of Set something | coruripe.\n",
      "Processing Record 535 of Set something | champerico.\n",
      "Processing Record 536 of Set something | hit.\n",
      "Processing Record 537 of Set something | puerto baquerizo moreno.\n",
      "Processing Record 538 of Set something | kerki.\n",
      "City not found. Skipping...\n",
      "Processing Record 539 of Set something | ostrovnoy.\n",
      "Processing Record 540 of Set something | svarychiv.\n",
      "Processing Record 541 of Set something | vostok.\n",
      "Processing Record 542 of Set something | fatsa.\n",
      "Processing Record 543 of Set something | pedernales.\n",
      "Processing Record 544 of Set something | bako.\n",
      "Processing Record 545 of Set something | nizwa.\n",
      "Processing Record 546 of Set something | jega.\n",
      "Processing Record 547 of Set something | san jose.\n",
      "Processing Record 548 of Set something | resistencia.\n",
      "Processing Record 549 of Set something | chase.\n",
      "Processing Record 550 of Set something | omboue.\n",
      "Processing Record 551 of Set something | kitakata.\n",
      "Processing Record 552 of Set something | kurumkan.\n",
      "Processing Record 553 of Set something | tiarei.\n",
      "Processing Record 554 of Set something | samusu.\n",
      "City not found. Skipping...\n",
      "Processing Record 555 of Set something | kananga.\n",
      "Processing Record 556 of Set something | la romana.\n",
      "Processing Record 557 of Set something | melilla.\n",
      "Processing Record 558 of Set something | mount gambier.\n",
      "Processing Record 559 of Set something | jumla.\n",
      "Processing Record 560 of Set something | broome.\n",
      "Processing Record 561 of Set something | mocuba.\n",
      "Processing Record 562 of Set something | kibiti.\n",
      "Processing Record 563 of Set something | manavalakurichi.\n",
      "Processing Record 564 of Set something | cibitoke.\n",
      "Processing Record 565 of Set something | burica.\n",
      "City not found. Skipping...\n",
      "Processing Record 566 of Set something | kimbe.\n",
      "Processing Record 567 of Set something | lamu.\n",
      "Processing Record 568 of Set something | khani.\n",
      "Processing Record 569 of Set something | touros.\n",
      "Processing Record 570 of Set something | kijang.\n",
      "Processing Record 571 of Set something | kamenskoye.\n",
      "City not found. Skipping...\n",
      "Processing Record 572 of Set something | sinnamary.\n",
      "Processing Record 573 of Set something | araceli.\n",
      "Processing Record 574 of Set something | zhuhai.\n",
      "Processing Record 575 of Set something | boyolangu.\n",
      "Processing Record 576 of Set something | kirensk.\n",
      "Processing Record 577 of Set something | guamuchil.\n",
      "Processing Record 578 of Set something | kharp.\n",
      "Processing Record 579 of Set something | port blair.\n",
      "Processing Record 580 of Set something | port keats.\n",
      "Processing Record 581 of Set something | kokoda.\n",
      "Processing Record 582 of Set something | poiana stampei.\n",
      "Processing Record 583 of Set something | kloulklubed.\n",
      "Processing Record 584 of Set something | toliary.\n",
      "City not found. Skipping...\n",
      "Processing Record 585 of Set something | shakhtinsk.\n",
      "Processing Record 586 of Set something | bumba.\n",
      "Processing Record 587 of Set something | alberton.\n",
      "Processing Record 588 of Set something | bengkalis.\n",
      "City not found. Skipping...\n",
      "Processing Record 589 of Set something | kupang.\n",
      "Processing Record 590 of Set something | vanimo.\n",
      "Processing Record 591 of Set something | san jeronimo.\n",
      "Processing Record 592 of Set something | north bend.\n",
      "Processing Record 593 of Set something | kavaratti.\n",
      "Processing Record 594 of Set something | matadi.\n",
      "Processing Record 595 of Set something | ilhabela.\n",
      "Processing Record 596 of Set something | khormuj.\n",
      "City not found. Skipping...\n",
      "Processing Record 597 of Set something | nova olimpia.\n",
      "Processing Record 598 of Set something | akdepe.\n",
      "Processing Record 599 of Set something | pacific grove.\n",
      "Processing Record 600 of Set something | hay river.\n",
      "Processing Record 601 of Set something | montes claros.\n",
      "Processing Record 602 of Set something | skjervoy.\n",
      "Processing Record 603 of Set something | ourem.\n",
      "Processing Record 604 of Set something | sungaipenuh.\n",
      "Processing Record 605 of Set something | vestmanna.\n",
      "Processing Record 606 of Set something | san bartolome de tirajana.\n",
      "Processing Record 607 of Set something | iida.\n",
      "Processing Record 608 of Set something | tulun.\n",
      "Processing Record 609 of Set something | nioki.\n",
      "Processing Record 610 of Set something | kununurra.\n",
      "Processing Record 611 of Set something | tshikapa.\n",
      "Processing Record 612 of Set something | zhezkazgan.\n",
      "Processing Record 613 of Set something | tartki.\n",
      "City not found. Skipping...\n",
      "Processing Record 614 of Set something | storforshei.\n",
      "Processing Record 615 of Set something | licheng.\n",
      "Processing Record 616 of Set something | aykhal.\n",
      "Processing Record 617 of Set something | cayenne.\n",
      "Processing Record 618 of Set something | moranbah.\n",
      "Processing Record 619 of Set something | bonavista.\n",
      "Processing Record 620 of Set something | berlevag.\n",
      "Processing Record 621 of Set something | kyenjojo.\n",
      "Processing Record 622 of Set something | kyren.\n",
      "Processing Record 623 of Set something | rozenburg.\n",
      "Processing Record 624 of Set something | camopi.\n",
      "Processing Record 625 of Set something | davidson.\n",
      "Processing Record 626 of Set something | nurota.\n",
      "Processing Record 627 of Set something | mamakan.\n",
      "Processing Record 628 of Set something | bolungarvik.\n",
      "City not found. Skipping...\n",
      "Processing Record 629 of Set something | namwala.\n",
      "Processing Record 630 of Set something | ust-kamchatsk.\n",
      "City not found. Skipping...\n",
      "Processing Record 631 of Set something | goure.\n",
      "Processing Record 632 of Set something | bahia blanca.\n",
      "Processing Record 633 of Set something | san carlos.\n",
      "Processing Record 634 of Set something | tanga.\n",
      "Processing Record 635 of Set something | huamachuco.\n",
      "Processing Record 636 of Set something | suba.\n",
      "Processing Record 637 of Set something | auki.\n",
      "Processing Record 638 of Set something | san patricio.\n",
      "Processing Record 639 of Set something | ransang.\n",
      "Processing Record 640 of Set something | shurugwi.\n",
      "Processing Record 641 of Set something | santo antonio do amparo.\n",
      "Processing Record 642 of Set something | mendahara.\n",
      "City not found. Skipping...\n",
      "Processing Record 643 of Set something | mogadishu.\n",
      "-----------------------------\n",
      "Data Retrieval Complete\n",
      "-----------------------------\n"
     ]
    }
   ],
   "source": [
    "# set up for loop counter\n",
    "cities_count = len(cities)\n",
    "\n",
    "#set up lists \n",
    "# initialize various lists\n",
    "City = []\n",
    "Lat = []\n",
    "Lng = []\n",
    "Max_Temp = []\n",
    "Humidity = []\n",
    "Cloudiness = []\n",
    "Wind_Speed = []\n",
    "Country = []\n",
    "Date = []\n",
    "\n",
    "url = \"http://api.openweathermap.org/data/2.5/weather?\"\n",
    "#query_url = url + \"appid=\" + weather_api_key + \"&q=\" + city\n",
    "\n",
    "# header\n",
    "print(\"Beginning Data Retreival\")\n",
    "print(\"-----------------------------\")\n",
    "\n",
    "# loop through all the cities\n",
    "\n",
    "for x in range(cities_count):\n",
    "    print(f\"Processing Record {x} of Set something | {cities[x]}.\")\n",
    "    params = {\"q\":cities[x],\n",
    "                  \"units\":\"imperial\",\n",
    "                \"appid\":weather_api_key}\n",
    "    try:      \n",
    "        response = requests.get(url, params=params)\n",
    "        response_json = response.json()\n",
    "    \n",
    "        # read the json into the various lists\n",
    "        City.append(response_json['name'])\n",
    "        Lat.append(response_json['coord']['lat'])\n",
    "        Lng.append(response_json['coord']['lon'])\n",
    "        Max_Temp.append(response_json['main']['temp_max'])\n",
    "        Humidity.append(response_json['main']['humidity'])\n",
    "        Cloudiness.append(response_json['clouds']['all'])\n",
    "        Wind_Speed.append(response_json['wind']['speed'])\n",
    "        Country.append(response_json['sys']['country'])\n",
    "        Date.append(response_json['dt'])\n",
    "    except:\n",
    "        print('City not found. Skipping...')\n",
    "\n",
    "print('-----------------------------')\n",
    "print('Data Retrieval Complete')\n",
    "print('-----------------------------')"
   ]
  },
  {
   "cell_type": "markdown",
   "metadata": {},
   "source": [
    "### Convert Raw Data to DataFrame\n",
    "* Export the city data into a .csv.\n",
    "* Display the DataFrame"
   ]
  },
  {
   "cell_type": "code",
   "execution_count": 5,
   "metadata": {},
   "outputs": [
    {
     "data": {
      "text/html": [
       "<div>\n",
       "<style scoped>\n",
       "    .dataframe tbody tr th:only-of-type {\n",
       "        vertical-align: middle;\n",
       "    }\n",
       "\n",
       "    .dataframe tbody tr th {\n",
       "        vertical-align: top;\n",
       "    }\n",
       "\n",
       "    .dataframe thead th {\n",
       "        text-align: right;\n",
       "    }\n",
       "</style>\n",
       "<table border=\"1\" class=\"dataframe\">\n",
       "  <thead>\n",
       "    <tr style=\"text-align: right;\">\n",
       "      <th></th>\n",
       "      <th>City</th>\n",
       "      <th>Lat</th>\n",
       "      <th>Lng</th>\n",
       "      <th>Max Temp</th>\n",
       "      <th>Humidity</th>\n",
       "      <th>Cloudiness</th>\n",
       "      <th>Windspeed</th>\n",
       "      <th>Country</th>\n",
       "      <th>Date</th>\n",
       "    </tr>\n",
       "  </thead>\n",
       "  <tbody>\n",
       "    <tr>\n",
       "      <th>0</th>\n",
       "      <td>Puerto Ayora</td>\n",
       "      <td>-0.7393</td>\n",
       "      <td>-90.3518</td>\n",
       "      <td>84.20</td>\n",
       "      <td>54</td>\n",
       "      <td>0</td>\n",
       "      <td>18.41</td>\n",
       "      <td>EC</td>\n",
       "      <td>1610055431</td>\n",
       "    </tr>\n",
       "    <tr>\n",
       "      <th>1</th>\n",
       "      <td>Hong Kong</td>\n",
       "      <td>22.2855</td>\n",
       "      <td>114.1577</td>\n",
       "      <td>46.99</td>\n",
       "      <td>74</td>\n",
       "      <td>100</td>\n",
       "      <td>3.00</td>\n",
       "      <td>HK</td>\n",
       "      <td>1610055270</td>\n",
       "    </tr>\n",
       "    <tr>\n",
       "      <th>2</th>\n",
       "      <td>Teahupoo</td>\n",
       "      <td>-17.8333</td>\n",
       "      <td>-149.2667</td>\n",
       "      <td>84.20</td>\n",
       "      <td>65</td>\n",
       "      <td>40</td>\n",
       "      <td>2.30</td>\n",
       "      <td>PF</td>\n",
       "      <td>1610055431</td>\n",
       "    </tr>\n",
       "    <tr>\n",
       "      <th>3</th>\n",
       "      <td>Kargasok</td>\n",
       "      <td>59.0556</td>\n",
       "      <td>80.8572</td>\n",
       "      <td>-17.46</td>\n",
       "      <td>82</td>\n",
       "      <td>98</td>\n",
       "      <td>5.03</td>\n",
       "      <td>RU</td>\n",
       "      <td>1610055432</td>\n",
       "    </tr>\n",
       "    <tr>\n",
       "      <th>4</th>\n",
       "      <td>Flin Flon</td>\n",
       "      <td>54.7682</td>\n",
       "      <td>-101.8650</td>\n",
       "      <td>32.00</td>\n",
       "      <td>69</td>\n",
       "      <td>40</td>\n",
       "      <td>6.91</td>\n",
       "      <td>CA</td>\n",
       "      <td>1610055432</td>\n",
       "    </tr>\n",
       "  </tbody>\n",
       "</table>\n",
       "</div>"
      ],
      "text/plain": [
       "           City      Lat       Lng  Max Temp  Humidity  Cloudiness  Windspeed  \\\n",
       "0  Puerto Ayora  -0.7393  -90.3518     84.20        54           0      18.41   \n",
       "1     Hong Kong  22.2855  114.1577     46.99        74         100       3.00   \n",
       "2      Teahupoo -17.8333 -149.2667     84.20        65          40       2.30   \n",
       "3      Kargasok  59.0556   80.8572    -17.46        82          98       5.03   \n",
       "4     Flin Flon  54.7682 -101.8650     32.00        69          40       6.91   \n",
       "\n",
       "  Country        Date  \n",
       "0      EC  1610055431  \n",
       "1      HK  1610055270  \n",
       "2      PF  1610055431  \n",
       "3      RU  1610055432  \n",
       "4      CA  1610055432  "
      ]
     },
     "execution_count": 5,
     "metadata": {},
     "output_type": "execute_result"
    }
   ],
   "source": [
    "# create a data frame from cities, lat, and temp\n",
    "weather_city = {\n",
    "    \"City\": City, \"Lat\": Lat, \"Lng\": Lng, \"Max Temp\": Max_Temp, \n",
    "    \"Humidity\" : Humidity, \"Cloudiness\": Cloudiness, \"Windspeed\": Wind_Speed,\n",
    "    \"Country\": Country, \"Date\": Date\n",
    "}\n",
    "weather_data = pd.DataFrame(weather_city)\n",
    "weather_data.head()"
   ]
  },
  {
   "cell_type": "code",
   "execution_count": 6,
   "metadata": {},
   "outputs": [],
   "source": [
    "# write data to a csv\n",
    "weather_data.to_csv('weather_city_file.csv', index = False)"
   ]
  },
  {
   "cell_type": "markdown",
   "metadata": {},
   "source": [
    "## Inspect the data and remove the cities where the humidity > 100%.\n",
    "----\n",
    "Skip this step if there are no cities that have humidity > 100%. "
   ]
  },
  {
   "cell_type": "code",
   "execution_count": 7,
   "metadata": {},
   "outputs": [
    {
     "data": {
      "text/plain": [
       "588"
      ]
     },
     "execution_count": 7,
     "metadata": {},
     "output_type": "execute_result"
    }
   ],
   "source": [
    "#find out how many entries the df contains\n",
    "len(weather_data)"
   ]
  },
  {
   "cell_type": "code",
   "execution_count": 8,
   "metadata": {},
   "outputs": [
    {
     "data": {
      "text/plain": [
       "0"
      ]
     },
     "execution_count": 8,
     "metadata": {},
     "output_type": "execute_result"
    }
   ],
   "source": [
    "#  Get the indices of cities that have humidity over 100%.\n",
    "\n",
    "humidity_data = weather_data.loc[weather_data['Humidity'] > 100]\n",
    "\n",
    "len(humidity_data)"
   ]
  },
  {
   "cell_type": "code",
   "execution_count": 9,
   "metadata": {},
   "outputs": [],
   "source": [
    "# Make a new DataFrame equal to the city data to drop all humidity outliers by index.\n",
    "# Passing \"inplace=False\" will make a copy of the city_data DataFrame, which we call \"clean_city_data\".\n"
   ]
  },
  {
   "cell_type": "code",
   "execution_count": null,
   "metadata": {},
   "outputs": [],
   "source": [
    "\n"
   ]
  },
  {
   "cell_type": "markdown",
   "metadata": {},
   "source": [
    "## Plotting the Data\n",
    "* Use proper labeling of the plots using plot titles (including date of analysis) and axes labels.\n",
    "* Save the plotted figures as .pngs."
   ]
  },
  {
   "cell_type": "markdown",
   "metadata": {},
   "source": [
    "## Latitude vs. Temperature Plot"
   ]
  },
  {
   "cell_type": "code",
   "execution_count": 21,
   "metadata": {
    "scrolled": true
   },
   "outputs": [
    {
     "data": {
      "image/png": "[encoded data removed]",
      "text/plain": [
       "<Figure size 576x360 with 1 Axes>"
      ]
     },
     "metadata": {
      "needs_background": "light"
     },
     "output_type": "display_data"
    }
   ],
   "source": [
    "fig, ax1 = plt.subplots(figsize=(8,5))\n",
    "\n",
    "x_values = weather_data['Max Temp']\n",
    "y_values = weather_data['Lat']\n",
    "ax1.set_xlabel('Temperature')\n",
    "ax1.set_ylabel('Latitude')\n",
    "ax1.set_title('Latitude Vs Temperature')\n",
    "\n",
    "plt.scatter(x_values, y_values)\n",
    "\n",
    "#Get the linear regression\n",
    "(slope, intercept, rvalue, pvalue, stderr) = linregress(x_values, y_values)\n",
    "regress_values = x_values * slope + intercept\n",
    "plt.plot(x_values,regress_values,\"r-\")\n",
    "\n",
    "plt.show()\n",
    "\n",
    "fig.savefig(\"LatvTemp.png\")"
   ]
  },
  {
   "cell_type": "markdown",
   "metadata": {},
   "source": [
    "## Latitude vs. Humidity Plot"
   ]
  },
  {
   "cell_type": "code",
   "execution_count": 22,
   "metadata": {},
   "outputs": [
    {
     "data": {
      "image/png": "[encoded data removed]",
      "text/plain": [
       "<Figure size 576x360 with 1 Axes>"
      ]
     },
     "metadata": {
      "needs_background": "light"
     },
     "output_type": "display_data"
    }
   ],
   "source": [
    "fig, ax2 = plt.subplots(figsize=(8,5))\n",
    "\n",
    "x_values = weather_data['Lat']\n",
    "y_values = weather_data['Humidity']\n",
    "ax2.set_xlabel('Latitude')\n",
    "ax2.set_ylabel('Humidity (%)')\n",
    "ax2.set_title('City Latitude vs. Humidity (04/01/20)')\n",
    "\n",
    "plt.scatter(x_values, y_values)\n",
    "\n",
    "#Get the linear regression\n",
    "(slope, intercept, rvalue, pvalue, stderr) = linregress(x_values, y_values)\n",
    "regress_values = x_values * slope + intercept\n",
    "plt.plot(x_values,regress_values,\"r-\")\n",
    "\n",
    "plt.show()\n",
    "\n",
    "fig.savefig(\"LatvHumidity.png\")"
   ]
  },
  {
   "cell_type": "markdown",
   "metadata": {},
   "source": [
    "## Latitude vs. Cloudiness Plot"
   ]
  },
  {
   "cell_type": "code",
   "execution_count": 23,
   "metadata": {},
   "outputs": [
    {
     "data": {
      "image/png": "[encoded data removed]",
      "text/plain": [
       "<Figure size 576x360 with 1 Axes>"
      ]
     },
     "metadata": {
      "needs_background": "light"
     },
     "output_type": "display_data"
    }
   ],
   "source": [
    "fig, ax3 = plt.subplots(figsize=(8,5))\n",
    "\n",
    "x_values = weather_data['Lat']\n",
    "y_values = weather_data['Cloudiness']\n",
    "ax3.set_xlabel('Latitude')\n",
    "ax3.set_ylabel('Cloudiness (%)')\n",
    "ax3.set_title('City Latitude vs. Cloudiness (04/01/20)')\n",
    "\n",
    "plt.scatter(x_values, y_values)\n",
    "\n",
    "\n",
    "#Get the linear regression\n",
    "(slope, intercept, rvalue, pvalue, stderr) = linregress(x_values, y_values)\n",
    "regress_values = x_values * slope + intercept\n",
    "plt.plot(x_values,regress_values,\"r-\")\n",
    "\n",
    "plt.show()\n",
    "fig.savefig(\"LatvCloudiness.png\")"
   ]
  },
  {
   "cell_type": "markdown",
   "metadata": {},
   "source": [
    "## Latitude vs. Wind Speed Plot"
   ]
  },
  {
   "cell_type": "code",
   "execution_count": 24,
   "metadata": {},
   "outputs": [
    {
     "data": {
      "image/png": "[encoded data removed]",
      "text/plain": [
       "<Figure size 576x360 with 1 Axes>"
      ]
     },
     "metadata": {
      "needs_background": "light"
     },
     "output_type": "display_data"
    }
   ],
   "source": [
    "fig, ax4 = plt.subplots(figsize=(8,5))\n",
    "\n",
    "x_values = weather_data['Lat']\n",
    "y_values = weather_data['Windspeed']\n",
    "ax4.set_xlabel('Latitude')\n",
    "ax4.set_ylabel('Wind Speed (mph)')\n",
    "ax4.set_title('City Latitude vs. Wind Speed (04/01/20)')\n",
    "\n",
    "plt.scatter(x_values, y_values)\n",
    "\n",
    "\n",
    "#Get the linear regression\n",
    "(slope, intercept, rvalue, pvalue, stderr) = linregress(x_values, y_values)\n",
    "regress_values = x_values * slope + intercept\n",
    "plt.plot(x_values,regress_values,\"r-\")\n",
    "\n",
    "plt.show()\n",
    "fig.savefig(\"LatvWind\")"
   ]
  },
  {
   "cell_type": "markdown",
   "metadata": {},
   "source": [
    "## Linear Regression"
   ]
  },
  {
   "cell_type": "code",
   "execution_count": 25,
   "metadata": {},
   "outputs": [
    {
     "data": {
      "text/plain": [
       "210"
      ]
     },
     "execution_count": 25,
     "metadata": {},
     "output_type": "execute_result"
    }
   ],
   "source": [
    "# Create Data Frames\n",
    "\n",
    "northern_weather_data = weather_data.loc[weather_data['Lat'] > 0]\n",
    "southern_weather_data = weather_data.loc[weather_data['Lat'] < 0 ]\n",
    "len(southern_weather_data)"
   ]
  },
  {
   "cell_type": "markdown",
   "metadata": {},
   "source": [
    "####  Northern Hemisphere - Max Temp vs. Latitude Linear Regression"
   ]
  },
  {
   "cell_type": "code",
   "execution_count": 26,
   "metadata": {},
   "outputs": [
    {
     "data": {
      "image/png": "[encoded data removed]",
      "text/plain": [
       "<Figure size 576x360 with 1 Axes>"
      ]
     },
     "metadata": {
      "needs_background": "light"
     },
     "output_type": "display_data"
    },
    {
     "name": "stdout",
     "output_type": "stream",
     "text": [
      "The r-squared is: 1.0623352328460938e-05\n"
     ]
    }
   ],
   "source": [
    "fig, ax5 = plt.subplots(figsize=(8,5))\n",
    "\n",
    "x_values = northern_weather_data['Lat']\n",
    "y_values = northern_weather_data['Windspeed']\n",
    "ax5.set_xlabel('Latitude')\n",
    "ax5.set_ylabel('Wind Speed (mph)')\n",
    "\n",
    "plt.scatter(x_values, y_values)\n",
    "\n",
    "\n",
    "#Get the linear regression\n",
    "(slope, intercept, rvalue, pvalue, stderr) = linregress(x_values, y_values)\n",
    "regress_values = x_values * slope + intercept\n",
    "plt.plot(x_values,regress_values,\"r-\")\n",
    "\n",
    "plt.show()\n",
    "fig.savefig(\"NH_maxtempreg.png\")\n",
    "\n",
    "print(f\"The r-squared is: {rvalue**2}\")"
   ]
  },
  {
   "cell_type": "markdown",
   "metadata": {},
   "source": [
    "####  Southern Hemisphere - Max Temp vs. Latitude Linear Regression"
   ]
  },
  {
   "cell_type": "code",
   "execution_count": 27,
   "metadata": {},
   "outputs": [
    {
     "data": {
      "image/png": "[encoded data removed]",
      "text/plain": [
       "<Figure size 576x360 with 1 Axes>"
      ]
     },
     "metadata": {
      "needs_background": "light"
     },
     "output_type": "display_data"
    },
    {
     "name": "stdout",
     "output_type": "stream",
     "text": [
      "The r-squared is: 0.20797319330053535\n"
     ]
    }
   ],
   "source": [
    "fig, ax6 = plt.subplots(figsize=(8,5))\n",
    "\n",
    "x_values = southern_weather_data['Lat']\n",
    "y_values = southern_weather_data['Max Temp']\n",
    "ax6.set_xlabel('Latitude')\n",
    "ax6.set_ylabel('Max Temp')\n",
    "\n",
    "plt.scatter(x_values, y_values)\n",
    "\n",
    "\n",
    "#Get the linear regression\n",
    "(slope, intercept, rvalue, pvalue, stderr) = linregress(x_values, y_values)\n",
    "regress_values = x_values * slope + intercept\n",
    "plt.plot(x_values,regress_values,\"r-\")\n",
    "\n",
    "plt.show()\n",
    "fig.savefig(\"SH_maxtempreg.png\")\n",
    "\n",
    "print(f\"The r-squared is: {rvalue**2}\")"
   ]
  },
  {
   "cell_type": "markdown",
   "metadata": {},
   "source": [
    "####  Northern Hemisphere - Humidity (%) vs. Latitude Linear Regression"
   ]
  },
  {
   "cell_type": "code",
   "execution_count": 28,
   "metadata": {},
   "outputs": [
    {
     "data": {
      "image/png": "[encoded data removed]",
      "text/plain": [
       "<Figure size 576x360 with 1 Axes>"
      ]
     },
     "metadata": {
      "needs_background": "light"
     },
     "output_type": "display_data"
    },
    {
     "name": "stdout",
     "output_type": "stream",
     "text": [
      "The r-squared is: 0.08438023149655283\n"
     ]
    }
   ],
   "source": [
    "fig, ax7 = plt.subplots(figsize=(8,5))\n",
    "\n",
    "x_values = northern_weather_data['Lat']\n",
    "y_values = northern_weather_data['Humidity']\n",
    "ax7.set_xlabel('Latitude')\n",
    "ax7.set_ylabel('Humidity')\n",
    "\n",
    "plt.scatter(x_values, y_values)\n",
    "\n",
    "\n",
    "#Get the linear regression\n",
    "(slope, intercept, rvalue, pvalue, stderr) = linregress(x_values, y_values)\n",
    "regress_values = x_values * slope + intercept\n",
    "plt.plot(x_values,regress_values,\"r-\")\n",
    "\n",
    "plt.show()\n",
    "fig.savefig(\"NH_humidityreg.png\")\n",
    "\n",
    "print(f\"The r-squared is: {rvalue**2}\")"
   ]
  },
  {
   "cell_type": "markdown",
   "metadata": {},
   "source": [
    "####  Southern Hemisphere - Humidity (%) vs. Latitude Linear Regression"
   ]
  },
  {
   "cell_type": "code",
   "execution_count": 29,
   "metadata": {},
   "outputs": [
    {
     "data": {
      "image/png": "[encoded data removed]",
      "text/plain": [
       "<Figure size 576x360 with 1 Axes>"
      ]
     },
     "metadata": {
      "needs_background": "light"
     },
     "output_type": "display_data"
    },
    {
     "name": "stdout",
     "output_type": "stream",
     "text": [
      "The r-squared is: 0.10364412079762833\n"
     ]
    }
   ],
   "source": [
    "fig, ax8 = plt.subplots(figsize=(8,5))\n",
    "\n",
    "x_values = southern_weather_data['Lat']\n",
    "y_values = southern_weather_data['Humidity']\n",
    "ax8.set_xlabel('Latitude')\n",
    "ax8.set_ylabel('Humidity')\n",
    "\n",
    "plt.scatter(x_values, y_values)\n",
    "\n",
    "\n",
    "#Get the linear regression\n",
    "(slope, intercept, rvalue, pvalue, stderr) = linregress(x_values, y_values)\n",
    "regress_values = x_values * slope + intercept\n",
    "plt.plot(x_values,regress_values,\"r-\")\n",
    "\n",
    "plt.show()\n",
    "fig.savefig(\"SH_humidityreg.png\")\n",
    "\n",
    "print(f\"The r-squared is: {rvalue**2}\")"
   ]
  },
  {
   "cell_type": "markdown",
   "metadata": {},
   "source": [
    "####  Northern Hemisphere - Cloudiness (%) vs. Latitude Linear Regression"
   ]
  },
  {
   "cell_type": "code",
   "execution_count": 30,
   "metadata": {},
   "outputs": [
    {
     "data": {
      "image/png": "[encoded data removed]",
      "text/plain": [
       "<Figure size 576x360 with 1 Axes>"
      ]
     },
     "metadata": {
      "needs_background": "light"
     },
     "output_type": "display_data"
    },
    {
     "name": "stdout",
     "output_type": "stream",
     "text": [
      "The r-squared is: 0.004567069838103972\n"
     ]
    }
   ],
   "source": [
    "fig, ax9 = plt.subplots(figsize=(8,5))\n",
    "\n",
    "x_values = northern_weather_data['Lat']\n",
    "y_values = northern_weather_data['Cloudiness']\n",
    "ax9.set_xlabel('Latitude')\n",
    "ax9.set_ylabel('Cloudiness')\n",
    "\n",
    "plt.scatter(x_values, y_values)\n",
    "\n",
    "\n",
    "#Get the linear regression\n",
    "(slope, intercept, rvalue, pvalue, stderr) = linregress(x_values, y_values)\n",
    "regress_values = x_values * slope + intercept\n",
    "plt.plot(x_values,regress_values,\"r-\")\n",
    "\n",
    "plt.show()\n",
    "fig.savefig(\"NH_cloudinessreg.png\")\n",
    "\n",
    "print(f\"The r-squared is: {rvalue**2}\")"
   ]
  },
  {
   "cell_type": "markdown",
   "metadata": {},
   "source": [
    "####  Southern Hemisphere - Cloudiness (%) vs. Latitude Linear Regression"
   ]
  },
  {
   "cell_type": "code",
   "execution_count": 31,
   "metadata": {},
   "outputs": [
    {
     "data": {
      "image/png": "[encoded data removed]",
      "text/plain": [
       "<Figure size 576x360 with 1 Axes>"
      ]
     },
     "metadata": {
      "needs_background": "light"
     },
     "output_type": "display_data"
    },
    {
     "name": "stdout",
     "output_type": "stream",
     "text": [
      "The r-squared is: 0.06721253352932748\n"
     ]
    }
   ],
   "source": [
    "fig, ax10 = plt.subplots(figsize=(8,5))\n",
    "\n",
    "x_values = southern_weather_data['Lat']\n",
    "y_values = southern_weather_data['Cloudiness']\n",
    "ax10.set_xlabel('Latitude')\n",
    "ax10.set_ylabel('Cloudiness')\n",
    "\n",
    "plt.scatter(x_values, y_values)\n",
    "\n",
    "\n",
    "#Get the linear regression\n",
    "(slope, intercept, rvalue, pvalue, stderr) = linregress(x_values, y_values)\n",
    "regress_values = x_values * slope + intercept\n",
    "plt.plot(x_values,regress_values,\"r-\")\n",
    "\n",
    "plt.show()\n",
    "fig.savefig(\"SH_cloudinessreg.png\")\n",
    "\n",
    "print(f\"The r-squared is: {rvalue**2}\")"
   ]
  },
  {
   "cell_type": "markdown",
   "metadata": {},
   "source": [
    "####  Northern Hemisphere - Wind Speed (mph) vs. Latitude Linear Regression"
   ]
  },
  {
   "cell_type": "code",
   "execution_count": 32,
   "metadata": {},
   "outputs": [
    {
     "data": {
      "image/png": "[encoded data removed]",
      "text/plain": [
       "<Figure size 576x360 with 1 Axes>"
      ]
     },
     "metadata": {
      "needs_background": "light"
     },
     "output_type": "display_data"
    },
    {
     "name": "stdout",
     "output_type": "stream",
     "text": [
      "The r-squared is: 1.0623352328460938e-05\n"
     ]
    }
   ],
   "source": [
    "fig, ax11 = plt.subplots(figsize=(8,5))\n",
    "\n",
    "x_values = northern_weather_data['Lat']\n",
    "y_values = northern_weather_data['Windspeed']\n",
    "ax11.set_xlabel('Latitude')\n",
    "ax11.set_ylabel('Wind Speed')\n",
    "\n",
    "plt.scatter(x_values, y_values)\n",
    "\n",
    "\n",
    "#Get the linear regression\n",
    "(slope, intercept, rvalue, pvalue, stderr) = linregress(x_values, y_values)\n",
    "regress_values = x_values * slope + intercept\n",
    "plt.plot(x_values,regress_values,\"r-\")\n",
    "\n",
    "plt.show()\n",
    "fig.savefig(\"NH_windreg.png\")\n",
    "\n",
    "print(f\"The r-squared is: {rvalue**2}\")"
   ]
  },
  {
   "cell_type": "markdown",
   "metadata": {},
   "source": [
    "####  Southern Hemisphere - Wind Speed (mph) vs. Latitude Linear Regression"
   ]
  },
  {
   "cell_type": "code",
   "execution_count": 33,
   "metadata": {},
   "outputs": [
    {
     "data": {
      "image/png": "[encoded data removed]",
      "text/plain": [
       "<Figure size 576x360 with 1 Axes>"
      ]
     },
     "metadata": {
      "needs_background": "light"
     },
     "output_type": "display_data"
    },
    {
     "name": "stdout",
     "output_type": "stream",
     "text": [
      "The r-squared is: 0.05251969970442114\n"
     ]
    }
   ],
   "source": [
    "fig, ax12 = plt.subplots(figsize=(8,5))\n",
    "\n",
    "x_values = southern_weather_data['Lat']\n",
    "y_values = southern_weather_data['Windspeed']\n",
    "ax12.set_xlabel('Latitude')\n",
    "ax12.set_ylabel('Wind Speed')\n",
    "\n",
    "plt.scatter(x_values, y_values)\n",
    "\n",
    "\n",
    "#Get the linear regression\n",
    "(slope, intercept, rvalue, pvalue, stderr) = linregress(x_values, y_values)\n",
    "regress_values = x_values * slope + intercept\n",
    "plt.plot(x_values,regress_values,\"r-\")\n",
    "\n",
    "plt.show()\n",
    "fig.savefig(\"SH_windreg.png\")\n",
    "\n",
    "print(f\"The r-squared is: {rvalue**2}\")"
   ]
  },
  {
   "cell_type": "code",
   "execution_count": null,
   "metadata": {},
   "outputs": [],
   "source": []
  }
 ],
 "metadata": {
  "anaconda-cloud": {},
  "kernel_info": {
   "name": "python3"
  },
  "kernelspec": {
   "display_name": "Python 3",
   "language": "python",
   "name": "python3"
  },
  "language_info": {
   "codemirror_mode": {
    "name": "ipython",
    "version": 3
   },
   "file_extension": ".py",
   "mimetype": "text/x-python",
   "name": "python",
   "nbconvert_exporter": "python",
   "pygments_lexer": "ipython3",
   "version": "3.8.3"
  },
  "latex_envs": {
   "LaTeX_envs_menu_present": true,
   "autoclose": false,
   "autocomplete": true,
   "bibliofile": "biblio.bib",
   "cite_by": "apalike",
   "current_citInitial": 1,
   "eqLabelWithNumbers": true,
   "eqNumInitial": 1,
   "hotkeys": {
    "equation": "Ctrl-E",
    "itemize": "Ctrl-I"
   },
   "labels_anchors": false,
   "latex_user_defs": false,
   "report_style_numbering": false,
   "user_envs_cfg": false
  },
  "nteract": {
   "version": "0.12.3"
  }
 },
 "nbformat": 4,
 "nbformat_minor": 4
}
